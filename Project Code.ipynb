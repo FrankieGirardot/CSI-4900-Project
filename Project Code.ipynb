{
 "cells": [
  {
   "cell_type": "code",
   "execution_count": null,
   "metadata": {},
   "outputs": [],
   "source": [
    "import numpy as np\n",
    "import keras\n",
    "import glob\n",
    "import tensorflow as tf\n",
    "import pandas as pd\n",
    "import seaborn as sn\n",
    "\n",
    "from keras.preprocessing.image import load_img\n",
    "from keras.preprocessing.image import img_to_array\n",
    "from sklearn.model_selection import train_test_split\n",
    "from keras.applications.resnet import preprocess_input\n",
    "from keras.applications import ResNet50\n",
    "from keras.applications.vgg16 import VGG16\n",
    "from keras.layers import Dense\n",
    "from keras.layers import Flatten\n",
    "from keras.preprocessing.image import ImageDataGenerator"
   ]
  },
  {
   "cell_type": "markdown",
   "metadata": {},
   "source": [
    "## Data preparation for ResNet50 model"
   ]
  },
  {
   "cell_type": "code",
   "execution_count": null,
   "metadata": {},
   "outputs": [],
   "source": [
    "classTrain = glob.glob(\"./data_distribution_for_SVM/train/*\")\n",
    "classTest = glob.glob(\"./data_distribution_for_SVM/test/*\")"
   ]
  },
  {
   "cell_type": "code",
   "execution_count": null,
   "metadata": {},
   "outputs": [],
   "source": [
    "x_train = []\n",
    "y_train = []\n",
    "count = 0\n",
    "classCount = 0\n",
    "for i in classTrain:\n",
    "    thing = glob.glob(\"{}/*\".format(i))\n",
    "    for x in thing:\n",
    "        image = load_img(x,target_size=(224,224))\n",
    "        image = img_to_array(image,dtype='int32')\n",
    "        x_train.append(image)\n",
    "        y_train.append(classCount)\n",
    "    classCount+=1"
   ]
  },
  {
   "cell_type": "code",
   "execution_count": null,
   "metadata": {},
   "outputs": [],
   "source": [
    "x_test = []\n",
    "y_test = []\n",
    "count = 0\n",
    "classCount = 0\n",
    "for i in classTest:\n",
    "    thing = glob.glob(\"{}/*\".format(i))\n",
    "    for x in thing:\n",
    "        image = load_img(x,target_size=(224,224))\n",
    "        image = img_to_array(image)\n",
    "        x_test.append(image)\n",
    "        y_test.append(classCount)\n",
    "    classCount+=1"
   ]
  },
  {
   "cell_type": "code",
   "execution_count": null,
   "metadata": {},
   "outputs": [],
   "source": [
    "x_trainRes = np.array(x_train)\n",
    "x_trainRes = preprocess_input(x_trainRes)\n",
    "y_trainRes = np.array(y_train)"
   ]
  },
  {
   "cell_type": "code",
   "execution_count": null,
   "metadata": {},
   "outputs": [],
   "source": [
    "x_testRes = np.array(x_test)\n",
    "x_testRes = preprocess_input(x_testRes)\n",
    "y_testRes = np.array(y_test)"
   ]
  },
  {
   "cell_type": "code",
   "execution_count": null,
   "metadata": {},
   "outputs": [],
   "source": [
    "x_trainRes,x_valRes,y_trainRes,y_valRes = train_test_split(x_trainRes,y_trainRes,test_size=0.2)"
   ]
  },
  {
   "cell_type": "code",
   "execution_count": null,
   "metadata": {},
   "outputs": [],
   "source": [
    "y_trainRes = keras.utils.to_categorical(y_trainRes, 38)\n",
    "y_valRes = keras.utils.to_categorical(y_trainRes, 38)\n",
    "y_testRes = keras.utils.to_categorical(y_testRes, 38)"
   ]
  },
  {
   "cell_type": "code",
   "execution_count": null,
   "metadata": {},
   "outputs": [],
   "source": [
    "base_modelRes=ResNet50(include_top=False,input_shape=(224,224,3),weights='imagenet')\n",
    "base_modelRes.trainable=False\n",
    "\n",
    "classifierRes=keras.models.Sequential()\n",
    "classifierRes.add(base_modelRes)\n",
    "classifierRes.add(Flatten())\n",
    "classifierRes.add(Dense(38,activation='softmax'))\n",
    "base_modelRes.summary()\n",
    "classifierRes.summary()"
   ]
  },
  {
   "cell_type": "code",
   "execution_count": null,
   "metadata": {},
   "outputs": [],
   "source": [
    "classifierRes.compile(optimizer='adam',\n",
    "              loss='categorical_crossentropy',\n",
    "              metrics=['accuracy'])"
   ]
  },
  {
   "cell_type": "code",
   "execution_count": null,
   "metadata": {},
   "outputs": [],
   "source": [
    "historyRes = classifierRes.fit(x_trainRes, y_trainRes,epochs=10,validation_data=(x_testRes, y_testRes))"
   ]
  },
  {
   "cell_type": "code",
   "execution_count": null,
   "metadata": {},
   "outputs": [],
   "source": [
    "classifierRes.save('./ResNet50')"
   ]
  },
  {
   "cell_type": "code",
   "execution_count": null,
   "metadata": {},
   "outputs": [],
   "source": [
    "lClassifierRes = keras.models.load_model('C:/Users/frank/Documents/HomeWork/Deep Learning/Plant Disease Project/ResNet50/')"
   ]
  },
  {
   "cell_type": "code",
   "execution_count": null,
   "metadata": {},
   "outputs": [],
   "source": [
    "#Save history for later plotting\n",
    "hist_dfRes = pd.DataFrame(historyRes.history)\n",
    "hist_csv_fileRes = 'historyRes.csv'\n",
    "with open(hist_csv_fileRes, mode='w') as f:\n",
    "    hist_dfRes.to_csv(f)"
   ]
  },
  {
   "cell_type": "code",
   "execution_count": null,
   "metadata": {},
   "outputs": [],
   "source": [
    "#Graph Model's Accuracy\n",
    "plt.plot(historyRes.history['accuracy'])\n",
    "plt.plot(historyRes.history['val_accuracy'])\n",
    "plt.title('ResNet50 accuracy')\n",
    "plt.ylabel('accuracy')\n",
    "plt.xlabel('epoch')\n",
    "plt.legend(['train', 'validation'], loc='upper left')\n",
    "plt.savefig('./Figures/ResNet50Accuracy.png')\n",
    "plt.show()"
   ]
  },
  {
   "cell_type": "code",
   "execution_count": null,
   "metadata": {},
   "outputs": [],
   "source": [
    "#Graph Model's Accuracy\n",
    "plt.plot(historyRes.history['loss'])\n",
    "plt.plot(historyRes.history['val_loss'])\n",
    "plt.title('ResNet50 loss')\n",
    "plt.ylabel('accuracy')\n",
    "plt.xlabel('epoch')\n",
    "plt.legend(['train', 'validation'], loc='upper left')\n",
    "plt.savefig('C:/Users/frank/Documents/AI Project/Figures/DenseClassifierAccuracy.png')\n",
    "plt.show()"
   ]
  },
  {
   "cell_type": "code",
   "execution_count": null,
   "metadata": {},
   "outputs": [],
   "source": [
    "pred = classifierRes.predict(x_testRes)"
   ]
  },
  {
   "cell_type": "code",
   "execution_count": null,
   "metadata": {},
   "outputs": [],
   "source": [
    "pred = np.argmax(pred,axis=1)\n",
    "pred =pred.tolist()"
   ]
  },
  {
   "cell_type": "code",
   "execution_count": null,
   "metadata": {},
   "outputs": [],
   "source": [
    "#Confusion Matrix Test\n",
    "matrix = confusion_matrix(y_test,pred)\n",
    "matshow(matrix)"
   ]
  },
  {
   "cell_type": "code",
   "execution_count": null,
   "metadata": {},
   "outputs": [],
   "source": [
    "labels = [x for x in range(38)]"
   ]
  },
  {
   "cell_type": "code",
   "execution_count": null,
   "metadata": {},
   "outputs": [],
   "source": [
    "df_cm = pd.DataFrame(matrix, index = labels,\n",
    "                  columns = labels)\n",
    "plt.figure(figsize = (25,25))\n",
    "file = sn.heatmap(df_cm, annot=True)\n",
    "file = file.get_figure()\n",
    "file.savefig('./Figures/ResNet50ConfusionMatrix2.png')"
   ]
  },
  {
   "cell_type": "code",
   "execution_count": null,
   "metadata": {},
   "outputs": [],
   "source": [
    "print(classification_report(y_test, pred))"
   ]
  },
  {
   "cell_type": "code",
   "execution_count": null,
   "metadata": {},
   "outputs": [],
   "source": [
    "labelDict = {0:'Apple Scab', 1:'Apple Black Rot', 2:'Cedar Apple Rust', 3:'Apple',4:'Blueberry',\n",
    "    5:'Cherry',6:'Cherry Powdery Mildew',7:'Corn Cercospora Leaf Spot',8:'Corn Common Rust',\n",
    "    9:'Corn',10:'Corn Northern Leaf Rot', 11:'Grape Black Rot', 12:'Grape Esca', 13:'Grape',\n",
    "    14:'Grape Leaf Blight',15:'Orange Haunglongbing',16:'Peach Bacterial Spot',17:'Peach',18:'Bell Pepper',\n",
    "    19:'Bell Pepper', 20:'Potato Early Blight', 21:'Potato', 22:'Potato Late Blight', 23:'Raspberry', \n",
    "    24:'Soybean', 25:'Squash Powdery Mildew',26:'Strawberry',27:'Strawberry Leaf Scorch',\n",
    "    28:'Tomato Bacterial Spot',29:'Tomato Early Blight',30:'Tomato', 31:'Tomato Late Blight',\n",
    "    32:'Tomato Leaf Mold', 33:'Tomato Septoria Leaf Spot', 34:'Tomato Spider Mites', 35:'Tomato Target Spot',\n",
    "    36:'Tomato Mosiac Virus',37:'Tomato Yellow Leaf Curl Virus'}"
   ]
  },
  {
   "cell_type": "code",
   "execution_count": null,
   "metadata": {},
   "outputs": [],
   "source": [
    "def predClassRes(im, labels, model):\n",
    "    pred = model.predict(im)\n",
    "    pred = np.argmax(pred,axis=1)\n",
    "    pred =pred.tolist()\n",
    "    wrong = 0\n",
    "    total = len(im)\n",
    "    \n",
    "    for i in range(len(pred)):      \n",
    "        print('Prediction ',i,':')\n",
    "        print('Predicted class: ',labelDict.get(pred[i]))\n",
    "        print('Actual class: ', labelDict.get(labels[i]))\n",
    "        \n",
    "        fig,ax = plt.subplots(1)\n",
    "        ax.imshow(x_test[i])\n",
    "        \n",
    "        if pred[i] != labels[i]:\n",
    "            wrong+=1\n",
    "    print(\"Total wrong: \", wrong)\n",
    "    print('Total accuracy: ', ((total-wrong)/total)*100,'%')"
   ]
  },
  {
   "cell_type": "code",
   "execution_count": null,
   "metadata": {},
   "outputs": [],
   "source": [
    "predClassRes(x_testRes[:5],y_test[:5], classifierRes)"
   ]
  },
  {
   "cell_type": "markdown",
   "metadata": {},
   "source": [
    "## Data preparation for VGG16"
   ]
  },
  {
   "cell_type": "code",
   "execution_count": null,
   "metadata": {},
   "outputs": [],
   "source": [
    "traindir = \"./data_distribution_for_SVM/train\"\n",
    "testdir = \"./data_distribution_for_SVM/test\"\n",
    "trainDirNames = \"./raw/color\""
   ]
  },
  {
   "cell_type": "code",
   "execution_count": null,
   "metadata": {},
   "outputs": [],
   "source": [
    "train_datagen = ImageDataGenerator(rescale=1./255,\n",
    "                                   shear_range=0.2,\n",
    "                                   zoom_range=0.2,\n",
    "                                   width_shift_range=0.2,\n",
    "                                   height_shift_range=0.2,\n",
    "                                   fill_mode='nearest')\n",
    "test_datagen = ImageDataGenerator(rescale=1./255)\n",
    "\n",
    "\n",
    "batch_size = 128\n",
    "\n",
    "training_set = train_datagen.flow_from_directory(traindir,\n",
    "                                                 target_size=(224, 224),\n",
    "                                                 color_mode=\"rgb\",\n",
    "                                                 batch_size=batch_size,\n",
    "                                                 class_mode='categorical',\n",
    "                                                 shuffle=True)\n",
    "\n",
    "valid_set = test_datagen.flow_from_directory(testdir,\n",
    "                                            target_size=(224, 224),\n",
    "                                            color_mode=\"rgb\",\n",
    "                                            batch_size=128,\n",
    "                                            class_mode='categorical')\n",
    "\n",
    "test_set = test_datagen.flow_from_directory(testdir,\n",
    "                                            target_size=(224, 224),\n",
    "                                            color_mode=\"rgb\",\n",
    "                                            batch_size=199,\n",
    "                                            class_mode=None,\n",
    "                                            shuffle=False)"
   ]
  },
  {
   "cell_type": "code",
   "execution_count": null,
   "metadata": {},
   "outputs": [],
   "source": [
    "#Example of image after reshaping\n",
    "fig,ax = plt.subplots(1)\n",
    "thing = training_set[55]\n",
    "thing = thing[0]\n",
    "thing = thing[127]\n",
    "ax.imshow(thing)\n",
    "plt.imsave('./Figures/ImageExample.png',thing)"
   ]
  },
  {
   "cell_type": "code",
   "execution_count": null,
   "metadata": {},
   "outputs": [],
   "source": [
    "#Dataset example distributions\n",
    "lb = training_set.labels.astype(np.int)\n",
    "unique, counts = np.unique(lb, return_counts=True)\n",
    "plt.bar(unique, counts)\n",
    "plt.xticks(np.arange(38, step = 5))\n",
    "plt.title('Train Data Class Distribution')\n",
    "plt.ylabel('Num Examples')\n",
    "plt.xlabel('Class')\n",
    "plt.savefig('./Figures/TrainDataClassDistribution.png')\n",
    "plt.show()"
   ]
  },
  {
   "cell_type": "code",
   "execution_count": null,
   "metadata": {},
   "outputs": [],
   "source": [
    "lb = test_set.labels.astype(np.int)\n",
    "unique, counts = np.unique(lb, return_counts=True)\n",
    "plt.bar(unique, counts)\n",
    "plt.xticks(np.arange(38, step = 5))\n",
    "plt.title('Test Data Class Distribution')\n",
    "plt.ylabel('Num Examples')\n",
    "plt.xlabel('Class')\n",
    "plt.savefig('./Figures/TestDataClassDistribution.png')\n",
    "plt.show()"
   ]
  },
  {
   "cell_type": "code",
   "execution_count": null,
   "metadata": {},
   "outputs": [],
   "source": [
    "train_num = training_set.samples\n",
    "test_num = test_set.samples"
   ]
  },
  {
   "cell_type": "code",
   "execution_count": null,
   "metadata": {},
   "outputs": [],
   "source": [
    "base_model=VGG16(include_top=False,input_shape=(224,224,3),weights='imagenet')\n",
    "base_model.trainable=False\n",
    "\n",
    "classifier=keras.models.Sequential()\n",
    "classifier.add(base_model)\n",
    "classifier.add(Flatten())\n",
    "classifier.add(Dense(38,activation='softmax'))\n",
    "base_model.summary()\n",
    "classifier.summary()"
   ]
  },
  {
   "cell_type": "code",
   "execution_count": null,
   "metadata": {},
   "outputs": [],
   "source": [
    "plot_model(base_model, to_file='./figures/modelVGG.png')"
   ]
  },
  {
   "cell_type": "code",
   "execution_count": null,
   "metadata": {},
   "outputs": [],
   "source": [
    "plot_model(classifier, to_file='./figures/firstModel.png')"
   ]
  },
  {
   "cell_type": "code",
   "execution_count": null,
   "metadata": {},
   "outputs": [],
   "source": [
    "classifier.compile(optimizer='adam',\n",
    "              loss='categorical_crossentropy',\n",
    "              metrics=['accuracy'])\n",
    "\n",
    "history = classifier.fit_generator(generator=training_set,\n",
    "                         steps_per_epoch=train_num//batch_size,\n",
    "                         epochs=10,\n",
    "                         validation_data=valid_set\n",
    "                         )"
   ]
  },
  {
   "cell_type": "code",
   "execution_count": null,
   "metadata": {},
   "outputs": [],
   "source": [
    "#Save history for later plotting\n",
    "hist_df = pd.DataFrame(history.history)\n",
    "hist_csv_file = 'history.csv'\n",
    "with open(hist_csv_file, mode='w') as f:\n",
    "    hist_df.to_csv(f)"
   ]
  },
  {
   "cell_type": "code",
   "execution_count": null,
   "metadata": {},
   "outputs": [],
   "source": [
    "classifier.save('C:/Users/frank/Documents/HomeWork/Deep Learning/Plant Disease Project/Model2')"
   ]
  },
  {
   "cell_type": "code",
   "execution_count": null,
   "metadata": {},
   "outputs": [],
   "source": [
    "#Graph Model's Loss\n",
    "plt.plot(history.history['loss'])\n",
    "plt.plot(history.history['val_loss'])\n",
    "plt.title('VGG16 loss')\n",
    "plt.ylabel('loss')\n",
    "plt.xlabel('epoch')\n",
    "plt.legend(['train', 'validation'], loc='upper right')\n",
    "plt.savefig('./Figures/VGGLoss.png')\n",
    "plt.show()"
   ]
  },
  {
   "cell_type": "code",
   "execution_count": null,
   "metadata": {},
   "outputs": [],
   "source": [
    "#Graph Model's Loss\n",
    "plt.plot(history.history['loss'])\n",
    "plt.plot(history.history['val_loss'])\n",
    "plt.title('VGG16 loss')\n",
    "plt.ylabel('loss')\n",
    "plt.xlabel('epoch')\n",
    "plt.legend(['train', 'validation'], loc='upper right')\n",
    "plt.savefig('./Figures/VGGLoss.png')\n",
    "plt.show()"
   ]
  },
  {
   "cell_type": "code",
   "execution_count": null,
   "metadata": {},
   "outputs": [],
   "source": [
    "lClassifier = keras.models.load_model('C:/Users/frank/Documents/HomeWork/Deep Learning/Plant Disease Project/Models/')"
   ]
  },
  {
   "cell_type": "markdown",
   "metadata": {},
   "source": [
    "## Evaluating the VGG16 model"
   ]
  },
  {
   "cell_type": "code",
   "execution_count": null,
   "metadata": {},
   "outputs": [],
   "source": [
    "predTest = lClassifier.predict(test_set)"
   ]
  },
  {
   "cell_type": "code",
   "execution_count": null,
   "metadata": {},
   "outputs": [],
   "source": [
    "#Confusion Matrix Test\n",
    "predTest = np.argmax(predTest, axis=1)\n",
    "predTest = predTest.tolist()"
   ]
  },
  {
   "cell_type": "code",
   "execution_count": null,
   "metadata": {},
   "outputs": [],
   "source": [
    "matrix = confusion_matrix(test_set.labels,predTest)\n",
    "matrix\n",
    "matshow(matrix)"
   ]
  },
  {
   "cell_type": "code",
   "execution_count": null,
   "metadata": {},
   "outputs": [],
   "source": [
    "df_cm = pd.DataFrame(matrix, index = labels,\n",
    "                  columns = labels)\n",
    "plt.figure(figsize = (25,25))\n",
    "\n",
    "file = sn.heatmap(df_cm, annot=True)\n",
    "file = file.get_figure()\n",
    "file.savefig('./Figures/vgg16ConfusionMatrix2.png')"
   ]
  },
  {
   "cell_type": "code",
   "execution_count": null,
   "metadata": {},
   "outputs": [],
   "source": [
    "print(classification_report(test_set.labels, predTest))"
   ]
  },
  {
   "cell_type": "code",
   "execution_count": null,
   "metadata": {},
   "outputs": [],
   "source": [
    "x_testVGG = []\n",
    "for i in range(1000,1005):\n",
    "    x_testVGG.append(x_test[i]/255)\n",
    "x_testVGG = np.array(x_testVGG)"
   ]
  },
  {
   "cell_type": "code",
   "execution_count": null,
   "metadata": {},
   "outputs": [],
   "source": [
    "def predClassVGG(im, labels, model):\n",
    "    pred = model.predict(im)\n",
    "    pred = np.argmax(pred,axis=1)\n",
    "    pred =pred.tolist()\n",
    "    wrong = 0\n",
    "    total = len(im)\n",
    "    \n",
    "    for i in range(len(pred)):      \n",
    "        print('Predicted class: ',labelDict.get(pred[i]))\n",
    "        print('Actual class: ', labelDict.get(labels[i]))\n",
    "        \n",
    "        fig,ax = plt.subplots(1)\n",
    "        ax.imshow(im[i])\n",
    "        \n",
    "        if pred[i] != labels[i]:\n",
    "            wrong+=1\n",
    "    print(\"Total wrong: \", wrong)\n",
    "    print('Total accuracy: ', ((total-wrong)/total)*100,'%')"
   ]
  },
  {
   "cell_type": "code",
   "execution_count": null,
   "metadata": {},
   "outputs": [],
   "source": [
    "predClassVGG(x_testVGG,test_set.labels[1000:1005],lClassifier)"
   ]
  }
 ],
 "metadata": {
  "kernelspec": {
   "display_name": "Python 3",
   "language": "python",
   "name": "python3"
  },
  "language_info": {
   "codemirror_mode": {
    "name": "ipython",
    "version": 3
   },
   "file_extension": ".py",
   "mimetype": "text/x-python",
   "name": "python",
   "nbconvert_exporter": "python",
   "pygments_lexer": "ipython3",
   "version": "3.8.0"
  }
 },
 "nbformat": 4,
 "nbformat_minor": 4
}
